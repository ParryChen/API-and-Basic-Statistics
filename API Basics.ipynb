{
 "cells": [
  {
   "cell_type": "markdown",
   "metadata": {},
   "source": [
    "## Import Libraries"
   ]
  },
  {
   "cell_type": "code",
   "execution_count": 10,
   "metadata": {},
   "outputs": [],
   "source": [
    "import requests\n",
    "import json\n",
    "import matplotlib.pyplot as plt\n",
    "import seaborn as sns\n",
    "import pandas as pd\n",
    "import numpy as np\n",
    "from scipy.stats import chi2_contingency"
   ]
  },
  {
   "cell_type": "code",
   "execution_count": 9,
   "metadata": {},
   "outputs": [],
   "source": [
    "headers = {\"<insert key here\"}\n",
    "endpoint = \"https://api.yelp.com/v3/businesses/search\""
   ]
  },
  {
   "cell_type": "markdown",
   "metadata": {},
   "source": [
    "## Creating a Function that Combines API Requests into a DataFrame \n",
    "Most APIs only return a limited number of results, so you need to make multiple requests to get beyond the limit\n",
    "\n",
    "Try: *Can turn parameters into a variable outside of the function. "
   ]
  },
  {
   "cell_type": "code",
   "execution_count": 19,
   "metadata": {},
   "outputs": [],
   "source": [
    "def get_data(num_of_pages, location):\n",
    "    pages = range(num_of_pages)\n",
    "    param_dic = {}\n",
    "    offset = 0\n",
    "    dataset = pd.DataFrame() \n",
    "    for page in pages:\n",
    "        import requests\n",
    "        if page == 0:\n",
    "            param_dic[page] = {\n",
    "            \"location\": str(location),\n",
    "            \"attribute\": \"hot_and_new\",\n",
    "            \"limit\": \"50\"\n",
    "            }\n",
    "        else:\n",
    "            offset = offset + 50\n",
    "            param_dic[page] = {\n",
    "                \"location\": str(location),\n",
    "                \"attribute\": \"hot_and_new\",\n",
    "                \"limit\": \"50\",\n",
    "                \"offset\": str(offset)\n",
    "            }\n",
    "        request = requests.get(url = endpoint, params = param_dic[page], headers = headers)\n",
    "        data = request.json()[\"businesses\"]\n",
    "        dataframe = pd.DataFrame.from_dict(data)\n",
    "        dataset = pd.concat([dataset, dataframe])    \n",
    "    dataset.reset_index(drop = True, inplace = True)\n",
    "    return dataset"
   ]
  },
  {
   "cell_type": "code",
   "execution_count": 82,
   "metadata": {
    "scrolled": true
   },
   "outputs": [
    {
     "name": "stdout",
     "output_type": "stream",
     "text": [
      "<class 'pandas.core.frame.DataFrame'>\n",
      "RangeIndex: 500 entries, 0 to 499\n",
      "Data columns (total 16 columns):\n",
      " #   Column         Non-Null Count  Dtype  \n",
      "---  ------         --------------  -----  \n",
      " 0   id             500 non-null    object \n",
      " 1   alias          500 non-null    object \n",
      " 2   name           500 non-null    object \n",
      " 3   image_url      500 non-null    object \n",
      " 4   is_closed      500 non-null    bool   \n",
      " 5   url            500 non-null    object \n",
      " 6   review_count   500 non-null    int64  \n",
      " 7   categories     500 non-null    object \n",
      " 8   rating         500 non-null    float64\n",
      " 9   coordinates    500 non-null    object \n",
      " 10  transactions   500 non-null    object \n",
      " 11  price          477 non-null    object \n",
      " 12  location       500 non-null    object \n",
      " 13  phone          500 non-null    object \n",
      " 14  display_phone  500 non-null    object \n",
      " 15  distance       500 non-null    float64\n",
      "dtypes: bool(1), float64(2), int64(1), object(12)\n",
      "memory usage: 59.2+ KB\n"
     ]
    }
   ],
   "source": [
    "dataset = get_data(10, \"New York\")\n",
    "dataset.info()"
   ]
  },
  {
   "cell_type": "code",
   "execution_count": 23,
   "metadata": {},
   "outputs": [
    {
     "data": {
      "text/html": [
       "<div>\n",
       "<style scoped>\n",
       "    .dataframe tbody tr th:only-of-type {\n",
       "        vertical-align: middle;\n",
       "    }\n",
       "\n",
       "    .dataframe tbody tr th {\n",
       "        vertical-align: top;\n",
       "    }\n",
       "\n",
       "    .dataframe thead th {\n",
       "        text-align: right;\n",
       "    }\n",
       "</style>\n",
       "<table border=\"1\" class=\"dataframe\">\n",
       "  <thead>\n",
       "    <tr style=\"text-align: right;\">\n",
       "      <th></th>\n",
       "      <th>id</th>\n",
       "      <th>alias</th>\n",
       "      <th>name</th>\n",
       "      <th>image_url</th>\n",
       "      <th>is_closed</th>\n",
       "      <th>url</th>\n",
       "      <th>review_count</th>\n",
       "      <th>categories</th>\n",
       "      <th>rating</th>\n",
       "      <th>coordinates</th>\n",
       "      <th>transactions</th>\n",
       "      <th>price</th>\n",
       "      <th>location</th>\n",
       "      <th>phone</th>\n",
       "      <th>display_phone</th>\n",
       "      <th>distance</th>\n",
       "    </tr>\n",
       "  </thead>\n",
       "  <tbody>\n",
       "    <tr>\n",
       "      <th>0</th>\n",
       "      <td>zv_XJAQr9D3PNR5eHYhC5w</td>\n",
       "      <td>bar-la-grassa-minneapolis</td>\n",
       "      <td>Bar La Grassa</td>\n",
       "      <td>https://s3-media2.fl.yelpcdn.com/bphoto/SKbCky...</td>\n",
       "      <td>False</td>\n",
       "      <td>https://www.yelp.com/biz/bar-la-grassa-minneap...</td>\n",
       "      <td>1271</td>\n",
       "      <td>italian</td>\n",
       "      <td>4.5</td>\n",
       "      <td>{'latitude': 44.98954, 'longitude': -93.278594}</td>\n",
       "      <td>[delivery]</td>\n",
       "      <td>$$$</td>\n",
       "      <td>{'address1': '800 Washington Ave N', 'address2...</td>\n",
       "      <td>+16123333837</td>\n",
       "      <td>(612) 333-3837</td>\n",
       "      <td>2821.099953</td>\n",
       "    </tr>\n",
       "    <tr>\n",
       "      <th>1</th>\n",
       "      <td>6vaAze9Fxuco249L3BhEdQ</td>\n",
       "      <td>112-eatery-minneapolis</td>\n",
       "      <td>112 Eatery</td>\n",
       "      <td>https://s3-media2.fl.yelpcdn.com/bphoto/6oZdXE...</td>\n",
       "      <td>False</td>\n",
       "      <td>https://www.yelp.com/biz/112-eatery-minneapoli...</td>\n",
       "      <td>1172</td>\n",
       "      <td>newamerican</td>\n",
       "      <td>4.5</td>\n",
       "      <td>{'latitude': 44.982527, 'longitude': -93.271807}</td>\n",
       "      <td>[delivery]</td>\n",
       "      <td>$$$</td>\n",
       "      <td>{'address1': '112 N 3rd St', 'address2': None,...</td>\n",
       "      <td>+16123437696</td>\n",
       "      <td>(612) 343-7696</td>\n",
       "      <td>2385.264921</td>\n",
       "    </tr>\n",
       "    <tr>\n",
       "      <th>2</th>\n",
       "      <td>5s2sT8ux7og5XfK-180r2g</td>\n",
       "      <td>george-and-the-dragon-minneapolis</td>\n",
       "      <td>George &amp; The Dragon</td>\n",
       "      <td>https://s3-media3.fl.yelpcdn.com/bphoto/u7Pn5-...</td>\n",
       "      <td>False</td>\n",
       "      <td>https://www.yelp.com/biz/george-and-the-dragon...</td>\n",
       "      <td>908</td>\n",
       "      <td>newamerican</td>\n",
       "      <td>4.5</td>\n",
       "      <td>{'latitude': 44.912151, 'longitude': -93.290436}</td>\n",
       "      <td>[pickup, delivery]</td>\n",
       "      <td>$$</td>\n",
       "      <td>{'address1': '813 W 50th St', 'address2': '', ...</td>\n",
       "      <td>+16122081047</td>\n",
       "      <td>(612) 208-1047</td>\n",
       "      <td>5941.642856</td>\n",
       "    </tr>\n",
       "    <tr>\n",
       "      <th>3</th>\n",
       "      <td>5olLs-K-_k_rWrrNLjvy0w</td>\n",
       "      <td>spoon-and-stable-minneapolis-4</td>\n",
       "      <td>Spoon and Stable</td>\n",
       "      <td>https://s3-media2.fl.yelpcdn.com/bphoto/QaDSlg...</td>\n",
       "      <td>False</td>\n",
       "      <td>https://www.yelp.com/biz/spoon-and-stable-minn...</td>\n",
       "      <td>915</td>\n",
       "      <td>newamerican</td>\n",
       "      <td>4.5</td>\n",
       "      <td>{'latitude': 44.9854892917291, 'longitude': -9...</td>\n",
       "      <td>[delivery]</td>\n",
       "      <td>$$$</td>\n",
       "      <td>{'address1': '211 N 1st St', 'address2': '', '...</td>\n",
       "      <td>+16122249850</td>\n",
       "      <td>(612) 224-9850</td>\n",
       "      <td>2755.624242</td>\n",
       "    </tr>\n",
       "    <tr>\n",
       "      <th>4</th>\n",
       "      <td>g7bbpP7x5KAc33i7pgOkLA</td>\n",
       "      <td>hells-kitchen-minneapolis</td>\n",
       "      <td>Hell's Kitchen</td>\n",
       "      <td>https://s3-media2.fl.yelpcdn.com/bphoto/-OhWXy...</td>\n",
       "      <td>False</td>\n",
       "      <td>https://www.yelp.com/biz/hells-kitchen-minneap...</td>\n",
       "      <td>2370</td>\n",
       "      <td>newamerican</td>\n",
       "      <td>4.0</td>\n",
       "      <td>{'latitude': 44.97460605855, 'longitude': -93....</td>\n",
       "      <td>[pickup, delivery]</td>\n",
       "      <td>$$</td>\n",
       "      <td>{'address1': '80 S 9th St', 'address2': None, ...</td>\n",
       "      <td>+16123324700</td>\n",
       "      <td>(612) 332-4700</td>\n",
       "      <td>1721.876448</td>\n",
       "    </tr>\n",
       "  </tbody>\n",
       "</table>\n",
       "</div>"
      ],
      "text/plain": [
       "                       id                              alias  \\\n",
       "0  zv_XJAQr9D3PNR5eHYhC5w          bar-la-grassa-minneapolis   \n",
       "1  6vaAze9Fxuco249L3BhEdQ             112-eatery-minneapolis   \n",
       "2  5s2sT8ux7og5XfK-180r2g  george-and-the-dragon-minneapolis   \n",
       "3  5olLs-K-_k_rWrrNLjvy0w     spoon-and-stable-minneapolis-4   \n",
       "4  g7bbpP7x5KAc33i7pgOkLA          hells-kitchen-minneapolis   \n",
       "\n",
       "                  name                                          image_url  \\\n",
       "0        Bar La Grassa  https://s3-media2.fl.yelpcdn.com/bphoto/SKbCky...   \n",
       "1           112 Eatery  https://s3-media2.fl.yelpcdn.com/bphoto/6oZdXE...   \n",
       "2  George & The Dragon  https://s3-media3.fl.yelpcdn.com/bphoto/u7Pn5-...   \n",
       "3     Spoon and Stable  https://s3-media2.fl.yelpcdn.com/bphoto/QaDSlg...   \n",
       "4       Hell's Kitchen  https://s3-media2.fl.yelpcdn.com/bphoto/-OhWXy...   \n",
       "\n",
       "   is_closed                                                url  review_count  \\\n",
       "0      False  https://www.yelp.com/biz/bar-la-grassa-minneap...          1271   \n",
       "1      False  https://www.yelp.com/biz/112-eatery-minneapoli...          1172   \n",
       "2      False  https://www.yelp.com/biz/george-and-the-dragon...           908   \n",
       "3      False  https://www.yelp.com/biz/spoon-and-stable-minn...           915   \n",
       "4      False  https://www.yelp.com/biz/hells-kitchen-minneap...          2370   \n",
       "\n",
       "    categories  rating                                        coordinates  \\\n",
       "0      italian     4.5    {'latitude': 44.98954, 'longitude': -93.278594}   \n",
       "1  newamerican     4.5   {'latitude': 44.982527, 'longitude': -93.271807}   \n",
       "2  newamerican     4.5   {'latitude': 44.912151, 'longitude': -93.290436}   \n",
       "3  newamerican     4.5  {'latitude': 44.9854892917291, 'longitude': -9...   \n",
       "4  newamerican     4.0  {'latitude': 44.97460605855, 'longitude': -93....   \n",
       "\n",
       "         transactions price  \\\n",
       "0          [delivery]   $$$   \n",
       "1          [delivery]   $$$   \n",
       "2  [pickup, delivery]    $$   \n",
       "3          [delivery]   $$$   \n",
       "4  [pickup, delivery]    $$   \n",
       "\n",
       "                                            location         phone  \\\n",
       "0  {'address1': '800 Washington Ave N', 'address2...  +16123333837   \n",
       "1  {'address1': '112 N 3rd St', 'address2': None,...  +16123437696   \n",
       "2  {'address1': '813 W 50th St', 'address2': '', ...  +16122081047   \n",
       "3  {'address1': '211 N 1st St', 'address2': '', '...  +16122249850   \n",
       "4  {'address1': '80 S 9th St', 'address2': None, ...  +16123324700   \n",
       "\n",
       "    display_phone     distance  \n",
       "0  (612) 333-3837  2821.099953  \n",
       "1  (612) 343-7696  2385.264921  \n",
       "2  (612) 208-1047  5941.642856  \n",
       "3  (612) 224-9850  2755.624242  \n",
       "4  (612) 332-4700  1721.876448  "
      ]
     },
     "execution_count": 23,
     "metadata": {},
     "output_type": "execute_result"
    }
   ],
   "source": [
    "dataset.head()"
   ]
  },
  {
   "cell_type": "markdown",
   "metadata": {},
   "source": [
    "## Analysis and Visualization(in progress)"
   ]
  },
  {
   "cell_type": "code",
   "execution_count": 34,
   "metadata": {},
   "outputs": [
    {
     "data": {
      "text/plain": [
       "count     250.000000\n",
       "mean      357.132000\n",
       "std       284.313579\n",
       "min        50.000000\n",
       "25%       171.250000\n",
       "50%       281.500000\n",
       "75%       422.750000\n",
       "max      2372.000000\n",
       "Name: review_count, dtype: float64"
      ]
     },
     "execution_count": 34,
     "metadata": {},
     "output_type": "execute_result"
    }
   ],
   "source": [
    "dataset[\"review_count\"].describe()"
   ]
  },
  {
   "cell_type": "code",
   "execution_count": 10,
   "metadata": {
    "scrolled": true
   },
   "outputs": [
    {
     "data": {
      "text/plain": [
       "Text(0.5, 1.0, 'KDE Plot of Restaurants by Review Count')"
      ]
     },
     "execution_count": 10,
     "metadata": {},
     "output_type": "execute_result"
    },
    {
     "data": {
      "image/png": "[encoded data removed]",
      "text/plain": [
       "<Figure size 432x288 with 1 Axes>"
      ]
     },
     "metadata": {
      "needs_background": "light"
     },
     "output_type": "display_data"
    }
   ],
   "source": [
    "dataset[\"review_count\"].plot.kde(xlim = (dataset['review_count'].min(),\n",
    "                                    dataset['review_count'].max(),\n",
    "                                    )\n",
    "                            )\n",
    "st_dev = dataset['review_count'].std(ddof = 0)\n",
    "mean = dataset['review_count'].mean()\n",
    "plt.axvline(mean, color = 'Black', label = 'mean')\n",
    "plt.axvline(mean + st_dev, color = 'Red', label = 'standard deviation')\n",
    "plt.legend()\n",
    "plt.title(\"KDE Plot of Restaurants by Review Count\", fontsize = 15)"
   ]
  },
  {
   "cell_type": "markdown",
   "metadata": {},
   "source": [
    "***\n",
    "Data is right skewed, with about 75% of restaurants having 425 reviews or less. Which is surprising, as from my plethora of experience eating out and browsing Yelp, it seems a lot more restaurants have more than 425 reviews than I was expecting. This might be a result from because of the parameter \"hot and new\". Either way, let's dig into this. \n",
    "***"
   ]
  },
  {
   "cell_type": "code",
   "execution_count": 5,
   "metadata": {
    "scrolled": true
   },
   "outputs": [
    {
     "data": {
      "text/plain": [
       "Text(0.5, 1.0, 'Strip Plot with Price Subgroup')"
      ]
     },
     "execution_count": 5,
     "metadata": {},
     "output_type": "execute_result"
    },
    {
     "data": {
      "image/png": "[encoded data removed]",
      "text/plain": [
       "<Figure size 432x288 with 1 Axes>"
      ]
     },
     "metadata": {
      "needs_background": "light"
     },
     "output_type": "display_data"
    }
   ],
   "source": [
    "dataset['price'] = dataset['price'].str.replace('\\$\\$\\$\\$','too expensive')\n",
    "dataset['price'] = dataset['price'].str.replace('\\$\\$\\$','high')\n",
    "dataset['price'] = dataset['price'].str.replace('\\$\\$','medium')\n",
    "dataset['price'] = dataset['price'].str.replace('\\$','low')\n",
    "\n",
    "sns.stripplot(x = 'price', y = 'review_count', data = dataset, jitter = True)\n",
    "plt.title(\"Strip Plot with Price Subgroup\", fontsize = 15)"
   ]
  },
  {
   "cell_type": "markdown",
   "metadata": {},
   "source": [
    "This was a great read. You might already know this, but this article clearly lays out what kind of tests you should think about when looking for relationships and correlation between continuous/continuous, continuous/categorical, categorical/categorical data. \n",
    "\n",
    "https://medium.com/@outside2SDs/an-overview-of-correlation-measures-between-categorical-and-continuous-variables-4c7f85610365 "
   ]
  },
  {
   "cell_type": "markdown",
   "metadata": {},
   "source": [
    "Seems like alot of the cheaper restaurants actually have less reviews than some of the more expensive restaurants. This seems odd? Perhaps again it has to do with the parameter. Let's split it into more categories. "
   ]
  },
  {
   "cell_type": "code",
   "execution_count": 7,
   "metadata": {
    "scrolled": false
   },
   "outputs": [
    {
     "data": {
      "text/html": [
       "<div>\n",
       "<style scoped>\n",
       "    .dataframe tbody tr th:only-of-type {\n",
       "        vertical-align: middle;\n",
       "    }\n",
       "\n",
       "    .dataframe tbody tr th {\n",
       "        vertical-align: top;\n",
       "    }\n",
       "\n",
       "    .dataframe thead th {\n",
       "        text-align: right;\n",
       "    }\n",
       "</style>\n",
       "<table border=\"1\" class=\"dataframe\">\n",
       "  <thead>\n",
       "    <tr style=\"text-align: right;\">\n",
       "      <th>price</th>\n",
       "      <th>high</th>\n",
       "      <th>low</th>\n",
       "      <th>medium</th>\n",
       "      <th>too expensive</th>\n",
       "    </tr>\n",
       "    <tr>\n",
       "      <th>rating</th>\n",
       "      <th></th>\n",
       "      <th></th>\n",
       "      <th></th>\n",
       "      <th></th>\n",
       "    </tr>\n",
       "  </thead>\n",
       "  <tbody>\n",
       "    <tr>\n",
       "      <th>3.5</th>\n",
       "      <td>NaN</td>\n",
       "      <td>NaN</td>\n",
       "      <td>484.0</td>\n",
       "      <td>NaN</td>\n",
       "    </tr>\n",
       "    <tr>\n",
       "      <th>4.0</th>\n",
       "      <td>369.0</td>\n",
       "      <td>282.0</td>\n",
       "      <td>389.0</td>\n",
       "      <td>826.0</td>\n",
       "    </tr>\n",
       "    <tr>\n",
       "      <th>4.5</th>\n",
       "      <td>708.0</td>\n",
       "      <td>175.0</td>\n",
       "      <td>337.0</td>\n",
       "      <td>NaN</td>\n",
       "    </tr>\n",
       "    <tr>\n",
       "      <th>5.0</th>\n",
       "      <td>NaN</td>\n",
       "      <td>126.0</td>\n",
       "      <td>NaN</td>\n",
       "      <td>NaN</td>\n",
       "    </tr>\n",
       "  </tbody>\n",
       "</table>\n",
       "</div>"
      ],
      "text/plain": [
       "price    high    low  medium  too expensive\n",
       "rating                                     \n",
       "3.5       NaN    NaN   484.0            NaN\n",
       "4.0     369.0  282.0   389.0          826.0\n",
       "4.5     708.0  175.0   337.0            NaN\n",
       "5.0       NaN  126.0     NaN            NaN"
      ]
     },
     "execution_count": 7,
     "metadata": {},
     "output_type": "execute_result"
    }
   ],
   "source": [
    "y = pd.crosstab(dataset[\"rating\"], dataset[\"price\"], values = dataset[\"review_count\"], aggfunc = \"mean\").round()\n",
    "y"
   ]
  },
  {
   "cell_type": "markdown",
   "metadata": {},
   "source": [
    "if there were no null values, we'd be able to generate a chi-squared and p-value. I could remove them but we'd have very little data left! Let's just do some correlation analysis on price and rating. Remember the more data you pull the more accurate it will be!"
   ]
  },
  {
   "cell_type": "code",
   "execution_count": 11,
   "metadata": {},
   "outputs": [
    {
     "data": {
      "text/html": [
       "<div>\n",
       "<style scoped>\n",
       "    .dataframe tbody tr th:only-of-type {\n",
       "        vertical-align: middle;\n",
       "    }\n",
       "\n",
       "    .dataframe tbody tr th {\n",
       "        vertical-align: top;\n",
       "    }\n",
       "\n",
       "    .dataframe thead th {\n",
       "        text-align: right;\n",
       "    }\n",
       "</style>\n",
       "<table border=\"1\" class=\"dataframe\">\n",
       "  <thead>\n",
       "    <tr style=\"text-align: right;\">\n",
       "      <th>price</th>\n",
       "      <th>high</th>\n",
       "      <th>low</th>\n",
       "      <th>medium</th>\n",
       "      <th>too expensive</th>\n",
       "    </tr>\n",
       "    <tr>\n",
       "      <th>rating</th>\n",
       "      <th></th>\n",
       "      <th></th>\n",
       "      <th></th>\n",
       "      <th></th>\n",
       "    </tr>\n",
       "  </thead>\n",
       "  <tbody>\n",
       "    <tr>\n",
       "      <th>3.5</th>\n",
       "      <td>0</td>\n",
       "      <td>0</td>\n",
       "      <td>27</td>\n",
       "      <td>0</td>\n",
       "    </tr>\n",
       "    <tr>\n",
       "      <th>4.0</th>\n",
       "      <td>10</td>\n",
       "      <td>22</td>\n",
       "      <td>104</td>\n",
       "      <td>1</td>\n",
       "    </tr>\n",
       "    <tr>\n",
       "      <th>4.5</th>\n",
       "      <td>6</td>\n",
       "      <td>22</td>\n",
       "      <td>46</td>\n",
       "      <td>0</td>\n",
       "    </tr>\n",
       "    <tr>\n",
       "      <th>5.0</th>\n",
       "      <td>0</td>\n",
       "      <td>1</td>\n",
       "      <td>0</td>\n",
       "      <td>0</td>\n",
       "    </tr>\n",
       "  </tbody>\n",
       "</table>\n",
       "</div>"
      ],
      "text/plain": [
       "price   high  low  medium  too expensive\n",
       "rating                                  \n",
       "3.5        0    0      27              0\n",
       "4.0       10   22     104              1\n",
       "4.5        6   22      46              0\n",
       "5.0        0    1       0              0"
      ]
     },
     "execution_count": 11,
     "metadata": {},
     "output_type": "execute_result"
    }
   ],
   "source": [
    "x = pd.crosstab(dataset[\"rating\"], dataset[\"price\"])\n",
    "x"
   ]
  },
  {
   "cell_type": "code",
   "execution_count": 30,
   "metadata": {
    "scrolled": false
   },
   "outputs": [
    {
     "name": "stdout",
     "output_type": "stream",
     "text": [
      "x2 =  21.398423441999462 p-value =  0.01099414025767072 df =  9\n"
     ]
    }
   ],
   "source": [
    "chisq_value, pvalue, df, expected = chi2_contingency(x)\n",
    "print(\"x2 = \", chisq_value, \"p-value = \", pvalue,\"df = \", df)"
   ]
  },
  {
   "cell_type": "markdown",
   "metadata": {},
   "source": [
    "Seems like there could be a statistically significant relationship between price and rating. I know we only pulled 150 values so this might not be very accurate."
   ]
  },
  {
   "cell_type": "markdown",
   "metadata": {},
   "source": [
    "To Do:\n",
    "1. Repull data with more values. \n",
    "2. Planning to see what types of cuisines tend to get more reviews and higher ratings(by city)"
   ]
  },
  {
   "cell_type": "markdown",
   "metadata": {},
   "source": [
    "Clean Category Column"
   ]
  },
  {
   "cell_type": "code",
   "execution_count": 83,
   "metadata": {},
   "outputs": [],
   "source": [
    "def get_cat(lis):\n",
    "    return lis[0][\"alias\"]\n",
    "dataset[\"categories\"] = dataset[\"categories\"].apply(get_cat)"
   ]
  },
  {
   "cell_type": "code",
   "execution_count": 84,
   "metadata": {},
   "outputs": [],
   "source": [
    "established_locations = dataset[dataset[\"review_count\"] > 200]\n",
    "cat_ratings = established_locations[[\"categories\", \"rating\", \"review_count\"]].groupby(\"categories\").mean()\n",
    "cat_ratings[\"value_counts\"] = established_locations[\"categories\"].value_counts()"
   ]
  },
  {
   "cell_type": "code",
   "execution_count": 77,
   "metadata": {},
   "outputs": [],
   "source": [
    "vancouver = cat_ratings.sort_values(\"value_counts\", ascending = False).head(10)"
   ]
  },
  {
   "cell_type": "code",
   "execution_count": 85,
   "metadata": {},
   "outputs": [],
   "source": [
    "new_york = cat_ratings.sort_values(\"value_counts\", ascending = False).head(10)"
   ]
  },
  {
   "cell_type": "code",
   "execution_count": 81,
   "metadata": {},
   "outputs": [],
   "source": [
    "minneapolis = cat_ratings.sort_values(\"value_counts\", ascending = False).head(10)"
   ]
  },
  {
   "cell_type": "code",
   "execution_count": 86,
   "metadata": {},
   "outputs": [
    {
     "name": "stdout",
     "output_type": "stream",
     "text": [
      "                    rating  review_count  value_counts\n",
      "categories                                            \n",
      "japanese          3.934783    468.217391            23\n",
      "seafood           3.825000    441.250000            20\n",
      "newcanadian       3.906250    498.437500            16\n",
      "italian           3.866667    345.200000            15\n",
      "ramen             3.875000    428.833333            12\n",
      "breakfast_brunch  3.954545    609.272727            11\n",
      "coffee            4.100000    291.900000            10\n",
      "mexican           4.111111    406.333333             9\n",
      "chinese           3.750000    401.000000             8\n",
      "icecream          4.071429    312.428571             7                rating  review_count  value_counts\n",
      "categories                                       \n",
      "newamerican  4.093750   1602.750000            32\n",
      "italian      4.133333   1626.633333            30\n",
      "japanese     4.120690   1248.275862            29\n",
      "bakeries     4.206897   1895.448276            29\n",
      "pizza        4.155172   1986.379310            29\n",
      "coffee       4.406250   1203.500000            16\n",
      "french       4.281250   1667.250000            16\n",
      "seafood      4.233333   1426.133333            15\n",
      "korean       4.142857   1471.142857            14\n",
      "desserts     4.230769   1545.692308            13                     rating  review_count  value_counts\n",
      "categories                                            \n",
      "newamerican       3.965517    537.965517            29\n",
      "breakfast_brunch  4.000000    412.333333            15\n",
      "pizza             4.107143    402.071429            14\n",
      "steak             3.944444    360.555556             9\n",
      "vietnamese        4.142857    528.571429             7\n",
      "bakeries          4.142857    328.142857             7\n",
      "coffee            3.500000    293.714286             7\n",
      "tradamerican      3.833333    296.666667             6\n",
      "italian           4.333333    650.333333             6\n",
      "burgers           3.916667    662.500000             6\n"
     ]
    }
   ],
   "source": [
    "print(vancouver, new_york, minneapolis)"
   ]
  },
  {
   "cell_type": "markdown",
   "metadata": {},
   "source": [
    "Try: all the notes in your data visualization stats"
   ]
  },
  {
   "cell_type": "code",
   "execution_count": 22,
   "metadata": {},
   "outputs": [
    {
     "data": {
      "text/plain": [
       "1.75"
      ]
     },
     "execution_count": 22,
     "metadata": {},
     "output_type": "execute_result"
    }
   ],
   "source": [
    "x = [1,2,3]\n",
    "np.average(x, weights = (.5,.25,.25))"
   ]
  },
  {
   "cell_type": "code",
   "execution_count": null,
   "metadata": {},
   "outputs": [],
   "source": []
  }
 ],
 "metadata": {
  "kernelspec": {
   "display_name": "Python 3",
   "language": "python",
   "name": "python3"
  },
  "language_info": {
   "codemirror_mode": {
    "name": "ipython",
    "version": 3
   },
   "file_extension": ".py",
   "mimetype": "text/x-python",
   "name": "python",
   "nbconvert_exporter": "python",
   "pygments_lexer": "ipython3",
   "version": "3.7.6"
  }
 },
 "nbformat": 4,
 "nbformat_minor": 4
}
